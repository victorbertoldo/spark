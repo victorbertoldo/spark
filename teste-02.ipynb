{
 "cells": [
  {
   "cell_type": "code",
   "execution_count": 2,
   "id": "8051db8b-e296-4622-a050-6d059d33097b",
   "metadata": {},
   "outputs": [],
   "source": [
    "import findspark\n",
    "findspark.init()"
   ]
  },
  {
   "cell_type": "markdown",
   "id": "3e6f1ee9-f73e-4bb8-a933-b51c8cc05bb4",
   "metadata": {},
   "source": [
    "# Para utilizar o Spark num nivel mais baixo de abstração, temos que criar objetos de configuração para utilizar o Spark e suas funcionalidades\n",
    "## Para fazer isso precisamos importar os metodos contexto e de configuração. \n",
    "\n",
    "> No `setMaster` é onde definimos o endereço do master node do cluster\n",
    "\n",
    "## Depois de definirmos a configuração do cluster precisamos declara-la ao contexto spark."
   ]
  },
  {
   "cell_type": "code",
   "execution_count": 8,
   "id": "636da7e5-a3da-421b-b431-7b935d9755fe",
   "metadata": {},
   "outputs": [],
   "source": [
    "from pyspark import SparkContext, SparkConf\n",
    "\n",
    "configure = SparkConf().setAppName(\"Teste02\").setMaster(\"spark://LAPTOP-GRNB9S39.localdomain:7077\")\n",
    "\n",
    "sc = SparkContext(conf = configure)"
   ]
  },
  {
   "cell_type": "markdown",
   "id": "8d9c4e84-7acd-4a61-b6c6-42d5c2c4dfd8",
   "metadata": {},
   "source": [
    "## Para utilizarmos a api de Dataframes num modo de abstração mais alto, precisamos utilizar o Spark SQL para isso e definir as configurações da sessão."
   ]
  },
  {
   "cell_type": "markdown",
   "id": "45177547-aa9b-4e3c-9ae6-e450239c9d5a",
   "metadata": {},
   "source": [
    "Segue exemplo de como usar DataFrames no Spark:\n",
    "\n",
    "``` python\n",
    "from pyspark.sql import SparkSession\n",
    "\n",
    "spark = SparkSession \\\n",
    "    .builder \\\n",
    "    .appName(\"Teste02SQL\") \\\n",
    "    .config(\"config option\", \"config value\") \\ \n",
    "    .getOrCreate() # GetOrCreate significa q se já houver uma sessão spark ativa, os parametros dela serão sobrescritos para as novas configurações, inves de iniciar um novo cluster job\n",
    "```\n"
   ]
  },
  {
   "cell_type": "code",
   "execution_count": null,
   "id": "728f4c9f-81da-4592-8960-b91abdb857c6",
   "metadata": {},
   "outputs": [],
   "source": []
  }
 ],
 "metadata": {
  "kernelspec": {
   "display_name": "Python 3 (ipykernel)",
   "language": "python",
   "name": "python3"
  },
  "language_info": {
   "codemirror_mode": {
    "name": "ipython",
    "version": 3
   },
   "file_extension": ".py",
   "mimetype": "text/x-python",
   "name": "python",
   "nbconvert_exporter": "python",
   "pygments_lexer": "ipython3",
   "version": "3.10.9"
  }
 },
 "nbformat": 4,
 "nbformat_minor": 5
}
