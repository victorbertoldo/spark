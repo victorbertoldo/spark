{
 "cells": [
  {
   "cell_type": "markdown",
   "metadata": {},
   "source": [
    "# Data wrangling com Spark\n",
    "### Aqui estamos utilizando técnicas de programação imperativa, interagindo com dataframes e suas funções."
   ]
  },
  {
   "cell_type": "code",
   "execution_count": 4,
   "metadata": {},
   "outputs": [],
   "source": [
    "# Ocorre um erro no processamento de alguns dados que é devido à variaveis de ambiente\n",
    "# Execute isso no inicio da aplicação\n",
    "import os\n",
    "import sys\n",
    "\n",
    "os.environ['PYSPARK_PYTHON'] = sys.executable\n",
    "os.environ['PYSPARK_DRIVER_PYTHON'] = sys.executable\n"
   ]
  },
  {
   "cell_type": "code",
   "execution_count": 89,
   "metadata": {},
   "outputs": [],
   "source": [
    "from pyspark.sql import SparkSession\n",
    "from pyspark.sql.functions import udf\n",
    "from pyspark.sql.types import StringType\n",
    "from pyspark.sql.types import IntegerType\n",
    "from pyspark.sql.functions import desc\n",
    "from pyspark.sql.functions import asc\n",
    "from pyspark.sql.functions import sum as Fsum\n",
    "from pyspark.sql import Window\n",
    "from pyspark.sql.functions import avg, col, sort_array\n",
    "\n",
    "import datetime\n",
    "\n",
    "import numpy as np\n",
    "import pandas as pd\n",
    "%matplotlib inline\n",
    "import matplotlib.pyplot as plt\n"
   ]
  },
  {
   "cell_type": "code",
   "execution_count": 6,
   "metadata": {},
   "outputs": [
    {
     "name": "stdout",
     "output_type": "stream",
     "text": [
      "23/02/18 14:20:25 WARN Utils: Your hostname, LAPTOP-GRNB9S39 resolves to a loopback address: 127.0.1.1; using 172.24.78.117 instead (on interface eth0)\n",
      "23/02/18 14:20:25 WARN Utils: Set SPARK_LOCAL_IP if you need to bind to another address\n"
     ]
    },
    {
     "name": "stderr",
     "output_type": "stream",
     "text": [
      "Setting default log level to \"WARN\".\n",
      "To adjust logging level use sc.setLogLevel(newLevel). For SparkR, use setLogLevel(newLevel).\n"
     ]
    },
    {
     "name": "stdout",
     "output_type": "stream",
     "text": [
      "23/02/18 14:20:25 WARN NativeCodeLoader: Unable to load native-hadoop library for your platform... using builtin-java classes where applicable\n"
     ]
    }
   ],
   "source": [
    "spark = SparkSession \\\n",
    "    .builder \\\n",
    "    .master(\"spark://LAPTOP-GRNB9S39.localdomain:7077\") \\\n",
    "    .appName(\"WranglingData\") \\\n",
    "    .enableHiveSupport() \\\n",
    "    .getOrCreate()"
   ]
  },
  {
   "cell_type": "code",
   "execution_count": 7,
   "metadata": {},
   "outputs": [
    {
     "name": "stderr",
     "output_type": "stream",
     "text": [
      "                                                                                \r"
     ]
    }
   ],
   "source": [
    "path = 'data/sparkify_log_small.json'\n",
    "user_log = spark.read.json(path)"
   ]
  },
  {
   "cell_type": "code",
   "execution_count": 8,
   "metadata": {},
   "outputs": [
    {
     "data": {
      "text/plain": [
       "[Row(artist='Showaddywaddy', auth='Logged In', firstName='Kenneth', gender='M', itemInSession=112, lastName='Matthews', length=232.93342, level='paid', location='Charlotte-Concord-Gastonia, NC-SC', method='PUT', page='NextSong', registration=1509380319284, sessionId=5132, song='Christmas Tears Will Fall', status=200, ts=1513720872284, userAgent='\"Mozilla/5.0 (Windows NT 6.1) AppleWebKit/537.36 (KHTML, like Gecko) Chrome/36.0.1985.125 Safari/537.36\"', userId='1046'),\n",
       " Row(artist='Lily Allen', auth='Logged In', firstName='Elizabeth', gender='F', itemInSession=7, lastName='Chase', length=195.23873, level='free', location='Shreveport-Bossier City, LA', method='PUT', page='NextSong', registration=1512718541284, sessionId=5027, song='Cheryl Tweedy', status=200, ts=1513720878284, userAgent='\"Mozilla/5.0 (Windows NT 6.1) AppleWebKit/537.36 (KHTML, like Gecko) Chrome/36.0.1985.143 Safari/537.36\"', userId='1000')]"
      ]
     },
     "execution_count": 8,
     "metadata": {},
     "output_type": "execute_result"
    }
   ],
   "source": [
    "user_log.take(2)"
   ]
  },
  {
   "cell_type": "code",
   "execution_count": 9,
   "metadata": {},
   "outputs": [
    {
     "name": "stdout",
     "output_type": "stream",
     "text": [
      "root\n",
      " |-- artist: string (nullable = true)\n",
      " |-- auth: string (nullable = true)\n",
      " |-- firstName: string (nullable = true)\n",
      " |-- gender: string (nullable = true)\n",
      " |-- itemInSession: long (nullable = true)\n",
      " |-- lastName: string (nullable = true)\n",
      " |-- length: double (nullable = true)\n",
      " |-- level: string (nullable = true)\n",
      " |-- location: string (nullable = true)\n",
      " |-- method: string (nullable = true)\n",
      " |-- page: string (nullable = true)\n",
      " |-- registration: long (nullable = true)\n",
      " |-- sessionId: long (nullable = true)\n",
      " |-- song: string (nullable = true)\n",
      " |-- status: long (nullable = true)\n",
      " |-- ts: long (nullable = true)\n",
      " |-- userAgent: string (nullable = true)\n",
      " |-- userId: string (nullable = true)\n",
      "\n"
     ]
    }
   ],
   "source": [
    "user_log.printSchema()"
   ]
  },
  {
   "cell_type": "code",
   "execution_count": 10,
   "metadata": {},
   "outputs": [
    {
     "name": "stderr",
     "output_type": "stream",
     "text": [
      "                                                                                \r"
     ]
    },
    {
     "name": "stdout",
     "output_type": "stream",
     "text": [
      "+-------+-----------------+\n",
      "|summary|           artist|\n",
      "+-------+-----------------+\n",
      "|  count|             8347|\n",
      "|   mean|            461.0|\n",
      "| stddev|            300.0|\n",
      "|    min|              !!!|\n",
      "|    max|ÃÂlafur Arnalds|\n",
      "+-------+-----------------+\n",
      "\n"
     ]
    }
   ],
   "source": [
    "user_log.describe('artist').show()"
   ]
  },
  {
   "cell_type": "code",
   "execution_count": 11,
   "metadata": {},
   "outputs": [
    {
     "name": "stderr",
     "output_type": "stream",
     "text": [
      "[Stage 5:=============================>                             (1 + 1) / 2]\r"
     ]
    },
    {
     "name": "stdout",
     "output_type": "stream",
     "text": [
      "+-------+------------------+\n",
      "|summary|         sessionId|\n",
      "+-------+------------------+\n",
      "|  count|             10000|\n",
      "|   mean|         4436.7511|\n",
      "| stddev|2043.1281541827561|\n",
      "|    min|                 9|\n",
      "|    max|              7144|\n",
      "+-------+------------------+\n",
      "\n"
     ]
    },
    {
     "name": "stderr",
     "output_type": "stream",
     "text": [
      "                                                                                \r"
     ]
    }
   ],
   "source": [
    "user_log.describe('sessionId').show()"
   ]
  },
  {
   "cell_type": "code",
   "execution_count": 12,
   "metadata": {},
   "outputs": [
    {
     "data": {
      "text/plain": [
       "10000"
      ]
     },
     "execution_count": 12,
     "metadata": {},
     "output_type": "execute_result"
    }
   ],
   "source": [
    "user_log.count()"
   ]
  },
  {
   "cell_type": "code",
   "execution_count": 13,
   "metadata": {},
   "outputs": [
    {
     "name": "stdout",
     "output_type": "stream",
     "text": [
      "+--------+\n",
      "|    page|\n",
      "+--------+\n",
      "|NextSong|\n",
      "|NextSong|\n",
      "|NextSong|\n",
      "|NextSong|\n",
      "|    Home|\n",
      "+--------+\n",
      "only showing top 5 rows\n",
      "\n"
     ]
    }
   ],
   "source": [
    "user_log.select(\"page\").show(n=5)"
   ]
  },
  {
   "cell_type": "code",
   "execution_count": 14,
   "metadata": {},
   "outputs": [
    {
     "name": "stderr",
     "output_type": "stream",
     "text": [
      "[Stage 12:=============================>                            (1 + 1) / 2]\r"
     ]
    },
    {
     "name": "stdout",
     "output_type": "stream",
     "text": [
      "+----------------+\n",
      "|            page|\n",
      "+----------------+\n",
      "|           About|\n",
      "|       Downgrade|\n",
      "|           Error|\n",
      "|            Help|\n",
      "|            Home|\n",
      "|           Login|\n",
      "|          Logout|\n",
      "|        NextSong|\n",
      "|   Save Settings|\n",
      "|        Settings|\n",
      "|Submit Downgrade|\n",
      "|  Submit Upgrade|\n",
      "|         Upgrade|\n",
      "+----------------+\n",
      "\n"
     ]
    },
    {
     "name": "stderr",
     "output_type": "stream",
     "text": [
      "                                                                                \r"
     ]
    }
   ],
   "source": [
    "# mostrando valores unicos\n",
    "user_log.select(\"page\").dropDuplicates().sort(\"page\").show()"
   ]
  },
  {
   "cell_type": "code",
   "execution_count": 15,
   "metadata": {},
   "outputs": [
    {
     "data": {
      "text/plain": [
       "13"
      ]
     },
     "execution_count": 15,
     "metadata": {},
     "output_type": "execute_result"
    }
   ],
   "source": [
    "user_log.select(\"page\").dropDuplicates().sort(\"page\").count()"
   ]
  },
  {
   "cell_type": "code",
   "execution_count": 16,
   "metadata": {},
   "outputs": [
    {
     "name": "stdout",
     "output_type": "stream",
     "text": [
      "Inicialmente o df possui 18 colunas.\n",
      "+------+\n",
      "|artist|\n",
      "+------+\n",
      "|  null|\n",
      "|   !!!|\n",
      "+------+\n",
      "only showing top 2 rows\n",
      "\n",
      "None\n",
      "+---------+\n",
      "|     auth|\n",
      "+---------+\n",
      "|    Guest|\n",
      "|Logged In|\n",
      "+---------+\n",
      "only showing top 2 rows\n",
      "\n",
      "None\n",
      "+---------+\n",
      "|firstName|\n",
      "+---------+\n",
      "|     null|\n",
      "|   Aakash|\n",
      "+---------+\n",
      "only showing top 2 rows\n",
      "\n",
      "None\n",
      "+------+\n",
      "|gender|\n",
      "+------+\n",
      "|  null|\n",
      "|     F|\n",
      "+------+\n",
      "only showing top 2 rows\n",
      "\n",
      "None\n",
      "+-------------+\n",
      "|itemInSession|\n",
      "+-------------+\n",
      "|            0|\n",
      "|            1|\n",
      "+-------------+\n",
      "only showing top 2 rows\n",
      "\n",
      "None\n",
      "+--------+\n",
      "|lastName|\n",
      "+--------+\n",
      "|    null|\n",
      "| Acevedo|\n",
      "+--------+\n",
      "only showing top 2 rows\n",
      "\n",
      "None\n",
      "+-------+\n",
      "| length|\n",
      "+-------+\n",
      "|   null|\n",
      "|1.12281|\n",
      "+-------+\n",
      "only showing top 2 rows\n",
      "\n",
      "None\n",
      "+-----+\n",
      "|level|\n",
      "+-----+\n",
      "| free|\n",
      "| paid|\n",
      "+-----+\n",
      "\n",
      "None\n",
      "+------------+\n",
      "|    location|\n",
      "+------------+\n",
      "|        null|\n",
      "|Aberdeen, WA|\n",
      "+------------+\n",
      "only showing top 2 rows\n",
      "\n",
      "None\n",
      "+------+\n",
      "|method|\n",
      "+------+\n",
      "|   GET|\n",
      "|   PUT|\n",
      "+------+\n",
      "\n",
      "None\n",
      "+---------+\n",
      "|     page|\n",
      "+---------+\n",
      "|    About|\n",
      "|Downgrade|\n",
      "+---------+\n",
      "only showing top 2 rows\n",
      "\n",
      "None\n",
      "+-------------+\n",
      "| registration|\n",
      "+-------------+\n",
      "|         null|\n",
      "|1463503881284|\n",
      "+-------------+\n",
      "only showing top 2 rows\n",
      "\n",
      "None\n",
      "+---------+\n",
      "|sessionId|\n",
      "+---------+\n",
      "|        9|\n",
      "|       10|\n",
      "+---------+\n",
      "only showing top 2 rows\n",
      "\n",
      "None\n",
      "+----+\n",
      "|song|\n",
      "+----+\n",
      "|null|\n",
      "|  #1|\n",
      "+----+\n",
      "only showing top 2 rows\n",
      "\n",
      "None\n",
      "+------+\n",
      "|status|\n",
      "+------+\n",
      "|   200|\n",
      "|   307|\n",
      "+------+\n",
      "only showing top 2 rows\n",
      "\n",
      "None\n",
      "+-------------+\n",
      "|           ts|\n",
      "+-------------+\n",
      "|1513720872284|\n",
      "|1513720878284|\n",
      "+-------------+\n",
      "only showing top 2 rows\n",
      "\n",
      "None\n",
      "+--------------------+\n",
      "|           userAgent|\n",
      "+--------------------+\n",
      "|                null|\n",
      "|\"Mozilla/5.0 (Mac...|\n",
      "+--------------------+\n",
      "only showing top 2 rows\n",
      "\n",
      "None\n",
      "+------+\n",
      "|userId|\n",
      "+------+\n",
      "|      |\n",
      "|    10|\n",
      "+------+\n",
      "only showing top 2 rows\n",
      "\n",
      "None\n",
      "Apos limpeza o df possui 18 colunas.\n"
     ]
    }
   ],
   "source": [
    "# teste de limpeza automatica\n",
    "print(f'Inicialmente o df possui {len(user_log.columns)} colunas.')\n",
    "for u in user_log.columns:\n",
    "    print(user_log.select(u).dropDuplicates().sort(u).show(n=2))\n",
    "    if user_log.select(u).dropDuplicates().sort(u).count() < 2 or user_log.select(u).dropDuplicates().sort(u) == None:\n",
    "        user_cleansed = user_log.drop(u, axis=1)\n",
    "print(f'Apos limpeza o df possui {len(user_log.columns)} colunas.')"
   ]
  },
  {
   "cell_type": "code",
   "execution_count": 17,
   "metadata": {},
   "outputs": [
    {
     "data": {
      "text/plain": [
       "18"
      ]
     },
     "execution_count": 17,
     "metadata": {},
     "output_type": "execute_result"
    }
   ],
   "source": [
    "len(user_log.columns)"
   ]
  },
  {
   "cell_type": "code",
   "execution_count": 18,
   "metadata": {},
   "outputs": [
    {
     "data": {
      "text/plain": [
       "[Row(userId='1046', firstname='Kenneth', page='NextSong', song='Christmas Tears Will Fall'),\n",
       " Row(userId='1046', firstname='Kenneth', page='NextSong', song='Be Wary Of A Woman'),\n",
       " Row(userId='1046', firstname='Kenneth', page='NextSong', song='Public Enemy No.1'),\n",
       " Row(userId='1046', firstname='Kenneth', page='NextSong', song='Reign Of The Tyrants'),\n",
       " Row(userId='1046', firstname='Kenneth', page='NextSong', song='Father And Son'),\n",
       " Row(userId='1046', firstname='Kenneth', page='NextSong', song='No. 5'),\n",
       " Row(userId='1046', firstname='Kenneth', page='NextSong', song='Seventeen'),\n",
       " Row(userId='1046', firstname='Kenneth', page='Home', song=None),\n",
       " Row(userId='1046', firstname='Kenneth', page='NextSong', song='War on war'),\n",
       " Row(userId='1046', firstname='Kenneth', page='NextSong', song='Killermont Street'),\n",
       " Row(userId='1046', firstname='Kenneth', page='NextSong', song='Black & Blue'),\n",
       " Row(userId='1046', firstname='Kenneth', page='Logout', song=None),\n",
       " Row(userId='1046', firstname='Kenneth', page='Home', song=None),\n",
       " Row(userId='1046', firstname='Kenneth', page='NextSong', song='Heads Will Roll'),\n",
       " Row(userId='1046', firstname='Kenneth', page='NextSong', song='Bleed It Out [Live At Milton Keynes]'),\n",
       " Row(userId='1046', firstname='Kenneth', page='NextSong', song='Clocks'),\n",
       " Row(userId='1046', firstname='Kenneth', page='NextSong', song='Love Rain'),\n",
       " Row(userId='1046', firstname='Kenneth', page='NextSong', song=\"Ry Ry's Song (Album Version)\"),\n",
       " Row(userId='1046', firstname='Kenneth', page='NextSong', song='The Invisible Man'),\n",
       " Row(userId='1046', firstname='Kenneth', page='NextSong', song='Catch You Baby (Steve Pitron & Max Sanna Radio Edit)'),\n",
       " Row(userId='1046', firstname='Kenneth', page='NextSong', song='Ask The Mountains'),\n",
       " Row(userId='1046', firstname='Kenneth', page='NextSong', song='Given Up (Album Version)'),\n",
       " Row(userId='1046', firstname='Kenneth', page='NextSong', song='El Cuatrero'),\n",
       " Row(userId='1046', firstname='Kenneth', page='NextSong', song='Hero/Heroine'),\n",
       " Row(userId='1046', firstname='Kenneth', page='NextSong', song='Spring'),\n",
       " Row(userId='1046', firstname='Kenneth', page='NextSong', song='Rising Moon'),\n",
       " Row(userId='1046', firstname='Kenneth', page='NextSong', song='Tough Little Boys'),\n",
       " Row(userId='1046', firstname='Kenneth', page='NextSong', song=\"Qu'Est-Ce Que T'Es Belle\"),\n",
       " Row(userId='1046', firstname='Kenneth', page='NextSong', song='Secrets'),\n",
       " Row(userId='1046', firstname='Kenneth', page='NextSong', song='Under The Gun')]"
      ]
     },
     "execution_count": 18,
     "metadata": {},
     "output_type": "execute_result"
    }
   ],
   "source": [
    "# selecionando determinadas colunas e filtrando os dados\n",
    "user_log.select([\"userId\", \"firstname\", \"page\", \"song\"]).where(user_log.userId == \"1046\").collect()"
   ]
  },
  {
   "cell_type": "code",
   "execution_count": 19,
   "metadata": {},
   "outputs": [],
   "source": [
    "get_hour = udf(lambda x: datetime.datetime.fromtimestamp(x / 1000.0).hour)"
   ]
  },
  {
   "cell_type": "code",
   "execution_count": 20,
   "metadata": {},
   "outputs": [],
   "source": [
    "user_log = user_log.withColumn(\"hour\", get_hour(user_log.ts))"
   ]
  },
  {
   "cell_type": "code",
   "execution_count": 21,
   "metadata": {},
   "outputs": [
    {
     "name": "stderr",
     "output_type": "stream",
     "text": [
      "[Stage 184:>                                                        (0 + 1) / 1]\r"
     ]
    },
    {
     "name": "stdout",
     "output_type": "stream",
     "text": [
      "+--------------------+---------+---------+------+-------------+---------+---------+-----+--------------------+------+--------+-------------+---------+--------------------+------+-------------+--------------------+------+----+\n",
      "|              artist|     auth|firstName|gender|itemInSession| lastName|   length|level|            location|method|    page| registration|sessionId|                song|status|           ts|           userAgent|userId|hour|\n",
      "+--------------------+---------+---------+------+-------------+---------+---------+-----+--------------------+------+--------+-------------+---------+--------------------+------+-------------+--------------------+------+----+\n",
      "|       Showaddywaddy|Logged In|  Kenneth|     M|          112| Matthews|232.93342| paid|Charlotte-Concord...|   PUT|NextSong|1509380319284|     5132|Christmas Tears W...|   200|1513720872284|\"Mozilla/5.0 (Win...|  1046|  20|\n",
      "|          Lily Allen|Logged In|Elizabeth|     F|            7|    Chase|195.23873| free|Shreveport-Bossie...|   PUT|NextSong|1512718541284|     5027|       Cheryl Tweedy|   200|1513720878284|\"Mozilla/5.0 (Win...|  1000|  20|\n",
      "|Cobra Starship Fe...|Logged In|     Vera|     F|            6|Blackwell|196.20526| paid|          Racine, WI|   PUT|NextSong|1499855749284|     5516|Good Girls Go Bad...|   200|1513720881284|\"Mozilla/5.0 (Mac...|  2219|  20|\n",
      "|          Alex Smoke|Logged In|   Sophee|     F|            8|   Barker|405.99465| paid|San Luis Obispo-P...|   PUT|NextSong|1513009647284|     2372| Don't See The Point|   200|1513720905284|\"Mozilla/5.0 (Win...|  2373|  20|\n",
      "|                null|Logged In|   Jordyn|     F|            0|    Jones|     null| free|        Syracuse, NY|   GET|    Home|1513648531284|     1746|                null|   200|1513720913284|\"Mozilla/5.0 (Mac...|  1747|  20|\n",
      "+--------------------+---------+---------+------+-------------+---------+---------+-----+--------------------+------+--------+-------------+---------+--------------------+------+-------------+--------------------+------+----+\n",
      "only showing top 5 rows\n",
      "\n"
     ]
    },
    {
     "name": "stderr",
     "output_type": "stream",
     "text": [
      "                                                                                \r"
     ]
    }
   ],
   "source": [
    "user_log.show(n=5)"
   ]
  },
  {
   "cell_type": "code",
   "execution_count": 22,
   "metadata": {},
   "outputs": [
    {
     "name": "stderr",
     "output_type": "stream",
     "text": [
      "                                                                                \r"
     ]
    },
    {
     "data": {
      "text/plain": [
       "Row(artist='Showaddywaddy', auth='Logged In', firstName='Kenneth', gender='M', itemInSession=112, lastName='Matthews', length=232.93342, level='paid', location='Charlotte-Concord-Gastonia, NC-SC', method='PUT', page='NextSong', registration=1509380319284, sessionId=5132, song='Christmas Tears Will Fall', status=200, ts=1513720872284, userAgent='\"Mozilla/5.0 (Windows NT 6.1) AppleWebKit/537.36 (KHTML, like Gecko) Chrome/36.0.1985.125 Safari/537.36\"', userId='1046', hour='20')"
      ]
     },
     "execution_count": 22,
     "metadata": {},
     "output_type": "execute_result"
    }
   ],
   "source": [
    "user_log.head()"
   ]
  },
  {
   "cell_type": "code",
   "execution_count": 23,
   "metadata": {},
   "outputs": [],
   "source": [
    "songs_in_hour = user_log.filter(user_log.page == \"NextSong\").groupby(user_log.hour).count().orderBy(user_log.hour.cast(\"float\"))"
   ]
  },
  {
   "cell_type": "code",
   "execution_count": 24,
   "metadata": {},
   "outputs": [
    {
     "name": "stdout",
     "output_type": "stream",
     "text": [
      "+----+-----+\n",
      "|hour|count|\n",
      "+----+-----+\n",
      "|   0|  382|\n",
      "|   1|  302|\n",
      "|   2|  352|\n",
      "|   3|  276|\n",
      "|   4|  348|\n",
      "|   5|  358|\n",
      "|   6|  375|\n",
      "|   7|  249|\n",
      "|   8|  216|\n",
      "|   9|  228|\n",
      "|  10|  251|\n",
      "|  11|  339|\n",
      "|  12|  462|\n",
      "|  13|  479|\n",
      "|  14|  484|\n",
      "|  15|  430|\n",
      "|  16|  362|\n",
      "|  17|  295|\n",
      "|  18|  257|\n",
      "|  19|  248|\n",
      "+----+-----+\n",
      "only showing top 20 rows\n",
      "\n"
     ]
    }
   ],
   "source": [
    "songs_in_hour.show()"
   ]
  },
  {
   "cell_type": "code",
   "execution_count": 25,
   "metadata": {},
   "outputs": [],
   "source": [
    "songs_in_hour_pd = songs_in_hour.toPandas()"
   ]
  },
  {
   "cell_type": "code",
   "execution_count": 26,
   "metadata": {},
   "outputs": [
    {
     "data": {
      "text/plain": [
       "(-1.0, 24.0)"
      ]
     },
     "execution_count": 26,
     "metadata": {},
     "output_type": "execute_result"
    },
    {
     "data": {
      "image/png": "[encoded data removed]",
      "text/plain": [
       "<Figure size 640x480 with 1 Axes>"
      ]
     },
     "metadata": {},
     "output_type": "display_data"
    }
   ],
   "source": [
    "plt.scatter(songs_in_hour_pd['hour'], songs_in_hour_pd['count'])\n",
    "plt.xlim(-1, 24)"
   ]
  },
  {
   "cell_type": "code",
   "execution_count": 28,
   "metadata": {},
   "outputs": [
    {
     "data": {
      "image/png": "[encoded data removed]",
      "text/plain": [
       "<Figure size 640x480 with 1 Axes>"
      ]
     },
     "metadata": {},
     "output_type": "display_data"
    }
   ],
   "source": [
    "plt.scatter(songs_in_hour_pd['hour'], songs_in_hour_pd['count'])\n",
    "plt.xlim(-1, 24);\n",
    "plt.ylim(0, 1.2 * max(songs_in_hour_pd['count'] ))\n",
    "plt.xlabel(\"hour\")\n",
    "plt.ylabel(\"Songs played\");"
   ]
  },
  {
   "cell_type": "code",
   "execution_count": 29,
   "metadata": {},
   "outputs": [],
   "source": [
    "user_log_valid = user_log.dropna(how=\"any\", subset=['userId', 'sessionId'])"
   ]
  },
  {
   "cell_type": "code",
   "execution_count": 30,
   "metadata": {},
   "outputs": [
    {
     "data": {
      "text/plain": [
       "10000"
      ]
     },
     "execution_count": 30,
     "metadata": {},
     "output_type": "execute_result"
    }
   ],
   "source": [
    "user_log_valid.count() "
   ]
  },
  {
   "cell_type": "markdown",
   "metadata": {},
   "source": [
    "**Acima tentamos dropar as linhas nulas para fazer com q a visualização fique o mais real possivel, entretanto não ocorreu nada. Vamos examinar se realmente não existem valores missing/nulos neste dataset**"
   ]
  },
  {
   "cell_type": "code",
   "execution_count": 31,
   "metadata": {},
   "outputs": [
    {
     "name": "stdout",
     "output_type": "stream",
     "text": [
      "+------+\n",
      "|userId|\n",
      "+------+\n",
      "|      |\n",
      "|    10|\n",
      "|   100|\n",
      "|  1000|\n",
      "|  1003|\n",
      "|  1005|\n",
      "|  1006|\n",
      "|  1017|\n",
      "|  1019|\n",
      "|  1020|\n",
      "|  1022|\n",
      "|  1025|\n",
      "|  1030|\n",
      "|  1035|\n",
      "|  1037|\n",
      "|   104|\n",
      "|  1040|\n",
      "|  1042|\n",
      "|  1043|\n",
      "|  1046|\n",
      "+------+\n",
      "only showing top 20 rows\n",
      "\n"
     ]
    }
   ],
   "source": [
    "user_log.select(\"userId\").dropDuplicates().sort(\"userId\").show()"
   ]
  },
  {
   "cell_type": "markdown",
   "metadata": {},
   "source": [
    "> Podemos ver que existem valores vazios nesta coluna."
   ]
  },
  {
   "cell_type": "code",
   "execution_count": 32,
   "metadata": {},
   "outputs": [
    {
     "data": {
      "text/plain": [
       "9664"
      ]
     },
     "execution_count": 32,
     "metadata": {},
     "output_type": "execute_result"
    }
   ],
   "source": [
    "user_log_valid = user_log_valid.filter(user_log_valid['userId'] != '')\n",
    "user_log_valid.count()"
   ]
  },
  {
   "cell_type": "code",
   "execution_count": 33,
   "metadata": {},
   "outputs": [
    {
     "name": "stderr",
     "output_type": "stream",
     "text": [
      "                                                                                \r"
     ]
    },
    {
     "name": "stdout",
     "output_type": "stream",
     "text": [
      "+------+---------+---------+------+-------------+--------+------+-----+--------------------+------+----------------+-------------+---------+----+------+-------------+--------------------+------+----+\n",
      "|artist|     auth|firstName|gender|itemInSession|lastName|length|level|            location|method|            page| registration|sessionId|song|status|           ts|           userAgent|userId|hour|\n",
      "+------+---------+---------+------+-------------+--------+------+-----+--------------------+------+----------------+-------------+---------+----+------+-------------+--------------------+------+----+\n",
      "|  null|Logged In|    Kelly|     F|           24|  Newton|  null| paid|Houston-The Woodl...|   PUT|Submit Downgrade|1513283366284|     5931|null|   307|1513768454284|Mozilla/5.0 (Wind...|  1138|   9|\n",
      "+------+---------+---------+------+-------------+--------+------+-----+--------------------+------+----------------+-------------+---------+----+------+-------------+--------------------+------+----+\n",
      "\n"
     ]
    }
   ],
   "source": [
    "user_log_valid.filter(\"page = 'Submit Downgrade'\").show()"
   ]
  },
  {
   "cell_type": "code",
   "execution_count": 34,
   "metadata": {},
   "outputs": [
    {
     "data": {
      "text/plain": [
       "[Row(userId='1138', firstname='Kelly', page='Home', level='paid', song=None),\n",
       " Row(userId='1138', firstname='Kelly', page='NextSong', level='paid', song='Everybody Everybody'),\n",
       " Row(userId='1138', firstname='Kelly', page='NextSong', level='paid', song='Gears'),\n",
       " Row(userId='1138', firstname='Kelly', page='NextSong', level='paid', song='Use Somebody'),\n",
       " Row(userId='1138', firstname='Kelly', page='NextSong', level='paid', song='Love Of My Life (1993 Digital Remaster)'),\n",
       " Row(userId='1138', firstname='Kelly', page='NextSong', level='paid', song='Down In The Valley Woe'),\n",
       " Row(userId='1138', firstname='Kelly', page='NextSong', level='paid', song='Treat Her Like A Lady'),\n",
       " Row(userId='1138', firstname='Kelly', page='NextSong', level='paid', song=\"Everybody Thinks You're An Angel\"),\n",
       " Row(userId='1138', firstname='Kelly', page='NextSong', level='paid', song='Fourteen Wives'),\n",
       " Row(userId='1138', firstname='Kelly', page='NextSong', level='paid', song='Love On The Rocks'),\n",
       " Row(userId='1138', firstname='Kelly', page='NextSong', level='paid', song='Breakeven'),\n",
       " Row(userId='1138', firstname='Kelly', page='NextSong', level='paid', song='Leaf House'),\n",
       " Row(userId='1138', firstname='Kelly', page='NextSong', level='paid', song='NAISEN KANSSA'),\n",
       " Row(userId='1138', firstname='Kelly', page='NextSong', level='paid', song=\"You're In My Heart\"),\n",
       " Row(userId='1138', firstname='Kelly', page='NextSong', level='paid', song='Roll On Down The Highway'),\n",
       " Row(userId='1138', firstname='Kelly', page='NextSong', level='paid', song='Plasticities (Remix)'),\n",
       " Row(userId='1138', firstname='Kelly', page='NextSong', level='paid', song='Secrets'),\n",
       " Row(userId='1138', firstname='Kelly', page='NextSong', level='paid', song='Hello'),\n",
       " Row(userId='1138', firstname='Kelly', page='NextSong', level='paid', song='I Never Told You'),\n",
       " Row(userId='1138', firstname='Kelly', page='NextSong', level='paid', song='Love Break Me'),\n",
       " Row(userId='1138', firstname='Kelly', page='NextSong', level='paid', song='One Touch One Bounce'),\n",
       " Row(userId='1138', firstname='Kelly', page='NextSong', level='paid', song='Undo'),\n",
       " Row(userId='1138', firstname='Kelly', page='NextSong', level='paid', song='Overdue (Blackbeard Remix)'),\n",
       " Row(userId='1138', firstname='Kelly', page='NextSong', level='paid', song='Slave To Love (1999 Digital Remaster)'),\n",
       " Row(userId='1138', firstname='Kelly', page='NextSong', level='paid', song='Stronger'),\n",
       " Row(userId='1138', firstname='Kelly', page='NextSong', level='paid', song='All Of Us (Album Version)'),\n",
       " Row(userId='1138', firstname='Kelly', page='NextSong', level='paid', song='Sehr kosmisch'),\n",
       " Row(userId='1138', firstname='Kelly', page='NextSong', level='paid', song='March Of The Celts'),\n",
       " Row(userId='1138', firstname='Kelly', page='NextSong', level='paid', song='Electricity'),\n",
       " Row(userId='1138', firstname='Kelly', page='NextSong', level='paid', song='Aces High'),\n",
       " Row(userId='1138', firstname='Kelly', page='NextSong', level='paid', song='Bananeira'),\n",
       " Row(userId='1138', firstname='Kelly', page='NextSong', level='paid', song='The General'),\n",
       " Row(userId='1138', firstname='Kelly', page='NextSong', level='paid', song='HÃ\\x83Â©roe De Leyenda (VersiÃ\\x83Â³n Maxi)'),\n",
       " Row(userId='1138', firstname='Kelly', page='NextSong', level='paid', song=\"Don't Stop The Music\"),\n",
       " Row(userId='1138', firstname='Kelly', page='NextSong', level='paid', song=\"You're The One\"),\n",
       " Row(userId='1138', firstname='Kelly', page='NextSong', level='paid', song='Entering White Cecilia'),\n",
       " Row(userId='1138', firstname='Kelly', page='NextSong', level='paid', song='Piccolo Cesare'),\n",
       " Row(userId='1138', firstname='Kelly', page='Help', level='paid', song=None),\n",
       " Row(userId='1138', firstname='Kelly', page='NextSong', level='paid', song='Last Christmas (Album Version)'),\n",
       " Row(userId='1138', firstname='Kelly', page='NextSong', level='paid', song='You Shook Me'),\n",
       " Row(userId='1138', firstname='Kelly', page='NextSong', level='paid', song='Going Steady'),\n",
       " Row(userId='1138', firstname='Kelly', page='NextSong', level='paid', song='My Name Is'),\n",
       " Row(userId='1138', firstname='Kelly', page='NextSong', level='paid', song='Undo'),\n",
       " Row(userId='1138', firstname='Kelly', page='NextSong', level='paid', song='Secrets'),\n",
       " Row(userId='1138', firstname='Kelly', page='NextSong', level='paid', song='Good Times Gone (Album Version)'),\n",
       " Row(userId='1138', firstname='Kelly', page='NextSong', level='paid', song='Angelito'),\n",
       " Row(userId='1138', firstname='Kelly', page='NextSong', level='paid', song='Batdance ( LP Version )'),\n",
       " Row(userId='1138', firstname='Kelly', page='Home', level='paid', song=None),\n",
       " Row(userId='1138', firstname='Kelly', page='NextSong', level='paid', song='DiÃ\\x83Â¡kdal'),\n",
       " Row(userId='1138', firstname='Kelly', page='NextSong', level='paid', song='Whirring'),\n",
       " Row(userId='1138', firstname='Kelly', page='NextSong', level='paid', song='Potholderz (feat. Count Bass D)'),\n",
       " Row(userId='1138', firstname='Kelly', page='NextSong', level='paid', song='Seaside'),\n",
       " Row(userId='1138', firstname='Kelly', page='NextSong', level='paid', song='Louder Than A Bomb'),\n",
       " Row(userId='1138', firstname='Kelly', page='NextSong', level='paid', song='Just Like You'),\n",
       " Row(userId='1138', firstname='Kelly', page='NextSong', level='paid', song=\"You're The One\"),\n",
       " Row(userId='1138', firstname='Kelly', page='NextSong', level='paid', song='Turn It Again (Album Version)'),\n",
       " Row(userId='1138', firstname='Kelly', page='NextSong', level='paid', song='Everywhere I Go'),\n",
       " Row(userId='1138', firstname='Kelly', page='NextSong', level='paid', song=\"Easy Skankin'\"),\n",
       " Row(userId='1138', firstname='Kelly', page='NextSong', level='paid', song='Roses'),\n",
       " Row(userId='1138', firstname='Kelly', page='NextSong', level='paid', song='Killing Me Softly With His Song'),\n",
       " Row(userId='1138', firstname='Kelly', page='NextSong', level='paid', song='The Razor (Album Version)'),\n",
       " Row(userId='1138', firstname='Kelly', page='NextSong', level='paid', song='Idols and Anchors'),\n",
       " Row(userId='1138', firstname='Kelly', page='Downgrade', level='paid', song=None),\n",
       " Row(userId='1138', firstname='Kelly', page='Submit Downgrade', level='paid', song=None),\n",
       " Row(userId='1138', firstname='Kelly', page='Home', level='free', song=None),\n",
       " Row(userId='1138', firstname='Kelly', page='NextSong', level='free', song='Bones'),\n",
       " Row(userId='1138', firstname='Kelly', page='Home', level='free', song=None),\n",
       " Row(userId='1138', firstname='Kelly', page='NextSong', level='free', song='Grenouilles Mantidactylus (Small Frogs)')]"
      ]
     },
     "execution_count": 34,
     "metadata": {},
     "output_type": "execute_result"
    }
   ],
   "source": [
    "user_log.select(['userId', 'firstname', 'page', 'level', 'song']).where(user_log.userId == \"1138\").collect()"
   ]
  },
  {
   "cell_type": "code",
   "execution_count": 35,
   "metadata": {},
   "outputs": [],
   "source": [
    "flag_downgrade_event = udf(lambda x: 1 if x == \"Submit Downgrade\" else 0, IntegerType())"
   ]
  },
  {
   "cell_type": "code",
   "execution_count": 36,
   "metadata": {},
   "outputs": [],
   "source": [
    "user_log_valid = user_log_valid.withColumn(\"downgraded\", flag_downgrade_event(\"page\"))"
   ]
  },
  {
   "cell_type": "code",
   "execution_count": 37,
   "metadata": {},
   "outputs": [
    {
     "data": {
      "text/plain": [
       "Row(artist='Showaddywaddy', auth='Logged In', firstName='Kenneth', gender='M', itemInSession=112, lastName='Matthews', length=232.93342, level='paid', location='Charlotte-Concord-Gastonia, NC-SC', method='PUT', page='NextSong', registration=1509380319284, sessionId=5132, song='Christmas Tears Will Fall', status=200, ts=1513720872284, userAgent='\"Mozilla/5.0 (Windows NT 6.1) AppleWebKit/537.36 (KHTML, like Gecko) Chrome/36.0.1985.125 Safari/537.36\"', userId='1046', hour='20', downgraded=0)"
      ]
     },
     "execution_count": 37,
     "metadata": {},
     "output_type": "execute_result"
    }
   ],
   "source": [
    "user_log_valid.head()"
   ]
  },
  {
   "cell_type": "code",
   "execution_count": 39,
   "metadata": {},
   "outputs": [],
   "source": [
    "windowval = Window.partitionBy(\"userId\").orderBy(desc(\"ts\")).rangeBetween(Window.unboundedPreceding, 0)"
   ]
  },
  {
   "cell_type": "code",
   "execution_count": 40,
   "metadata": {},
   "outputs": [],
   "source": [
    "user_log_valid = user_log_valid.withColumn(\"phase\", Fsum(\"downgraded\").over(windowval))"
   ]
  },
  {
   "cell_type": "code",
   "execution_count": 45,
   "metadata": {},
   "outputs": [
    {
     "data": {
      "text/plain": [
       "[Row(userId='1138', firstname='Kelly', ts=1513729066284, page='Home', level='paid', phase=1),\n",
       " Row(userId='1138', firstname='Kelly', ts=1513729066284, page='NextSong', level='paid', phase=1),\n",
       " Row(userId='1138', firstname='Kelly', ts=1513729313284, page='NextSong', level='paid', phase=1),\n",
       " Row(userId='1138', firstname='Kelly', ts=1513729552284, page='NextSong', level='paid', phase=1),\n",
       " Row(userId='1138', firstname='Kelly', ts=1513729783284, page='NextSong', level='paid', phase=1),\n",
       " Row(userId='1138', firstname='Kelly', ts=1513730001284, page='NextSong', level='paid', phase=1),\n",
       " Row(userId='1138', firstname='Kelly', ts=1513730263284, page='NextSong', level='paid', phase=1),\n",
       " Row(userId='1138', firstname='Kelly', ts=1513730518284, page='NextSong', level='paid', phase=1),\n",
       " Row(userId='1138', firstname='Kelly', ts=1513730768284, page='NextSong', level='paid', phase=1),\n",
       " Row(userId='1138', firstname='Kelly', ts=1513731182284, page='NextSong', level='paid', phase=1),\n",
       " Row(userId='1138', firstname='Kelly', ts=1513731435284, page='NextSong', level='paid', phase=1),\n",
       " Row(userId='1138', firstname='Kelly', ts=1513731695284, page='NextSong', level='paid', phase=1),\n",
       " Row(userId='1138', firstname='Kelly', ts=1513731857284, page='NextSong', level='paid', phase=1),\n",
       " Row(userId='1138', firstname='Kelly', ts=1513732160284, page='NextSong', level='paid', phase=1),\n",
       " Row(userId='1138', firstname='Kelly', ts=1513732302284, page='NextSong', level='paid', phase=1),\n",
       " Row(userId='1138', firstname='Kelly', ts=1513732540284, page='NextSong', level='paid', phase=1),\n",
       " Row(userId='1138', firstname='Kelly', ts=1513732770284, page='NextSong', level='paid', phase=1),\n",
       " Row(userId='1138', firstname='Kelly', ts=1513732994284, page='NextSong', level='paid', phase=1),\n",
       " Row(userId='1138', firstname='Kelly', ts=1513733223284, page='NextSong', level='paid', phase=1),\n",
       " Row(userId='1138', firstname='Kelly', ts=1513733456284, page='NextSong', level='paid', phase=1),\n",
       " Row(userId='1138', firstname='Kelly', ts=1513733738284, page='NextSong', level='paid', phase=1),\n",
       " Row(userId='1138', firstname='Kelly', ts=1513733941284, page='NextSong', level='paid', phase=1),\n",
       " Row(userId='1138', firstname='Kelly', ts=1513734289284, page='NextSong', level='paid', phase=1),\n",
       " Row(userId='1138', firstname='Kelly', ts=1513734598284, page='NextSong', level='paid', phase=1),\n",
       " Row(userId='1138', firstname='Kelly', ts=1513734863284, page='NextSong', level='paid', phase=1),\n",
       " Row(userId='1138', firstname='Kelly', ts=1513735174284, page='NextSong', level='paid', phase=1),\n",
       " Row(userId='1138', firstname='Kelly', ts=1513735385284, page='NextSong', level='paid', phase=1),\n",
       " Row(userId='1138', firstname='Kelly', ts=1513736040284, page='NextSong', level='paid', phase=1),\n",
       " Row(userId='1138', firstname='Kelly', ts=1513736237284, page='NextSong', level='paid', phase=1),\n",
       " Row(userId='1138', firstname='Kelly', ts=1513736446284, page='NextSong', level='paid', phase=1),\n",
       " Row(userId='1138', firstname='Kelly', ts=1513736709284, page='NextSong', level='paid', phase=1),\n",
       " Row(userId='1138', firstname='Kelly', ts=1513736915284, page='NextSong', level='paid', phase=1),\n",
       " Row(userId='1138', firstname='Kelly', ts=1513737160284, page='NextSong', level='paid', phase=1),\n",
       " Row(userId='1138', firstname='Kelly', ts=1513737460284, page='NextSong', level='paid', phase=1),\n",
       " Row(userId='1138', firstname='Kelly', ts=1513737728284, page='NextSong', level='paid', phase=1),\n",
       " Row(userId='1138', firstname='Kelly', ts=1513737936284, page='NextSong', level='paid', phase=1),\n",
       " Row(userId='1138', firstname='Kelly', ts=1513738144284, page='NextSong', level='paid', phase=1),\n",
       " Row(userId='1138', firstname='Kelly', ts=1513738197284, page='Help', level='paid', phase=1),\n",
       " Row(userId='1138', firstname='Kelly', ts=1513738432284, page='NextSong', level='paid', phase=1),\n",
       " Row(userId='1138', firstname='Kelly', ts=1513763195284, page='NextSong', level='paid', phase=1),\n",
       " Row(userId='1138', firstname='Kelly', ts=1513763453284, page='NextSong', level='paid', phase=1),\n",
       " Row(userId='1138', firstname='Kelly', ts=1513763622284, page='NextSong', level='paid', phase=1),\n",
       " Row(userId='1138', firstname='Kelly', ts=1513763890284, page='NextSong', level='paid', phase=1),\n",
       " Row(userId='1138', firstname='Kelly', ts=1513764238284, page='NextSong', level='paid', phase=1),\n",
       " Row(userId='1138', firstname='Kelly', ts=1513764462284, page='NextSong', level='paid', phase=1),\n",
       " Row(userId='1138', firstname='Kelly', ts=1513764782284, page='NextSong', level='paid', phase=1),\n",
       " Row(userId='1138', firstname='Kelly', ts=1513765075284, page='NextSong', level='paid', phase=1),\n",
       " Row(userId='1138', firstname='Kelly', ts=1513765075284, page='Home', level='paid', phase=1),\n",
       " Row(userId='1138', firstname='Kelly', ts=1513765448284, page='NextSong', level='paid', phase=1),\n",
       " Row(userId='1138', firstname='Kelly', ts=1513765655284, page='NextSong', level='paid', phase=1),\n",
       " Row(userId='1138', firstname='Kelly', ts=1513765818284, page='NextSong', level='paid', phase=1),\n",
       " Row(userId='1138', firstname='Kelly', ts=1513766091284, page='NextSong', level='paid', phase=1),\n",
       " Row(userId='1138', firstname='Kelly', ts=1513766189284, page='NextSong', level='paid', phase=1),\n",
       " Row(userId='1138', firstname='Kelly', ts=1513766385284, page='NextSong', level='paid', phase=1),\n",
       " Row(userId='1138', firstname='Kelly', ts=1513766599284, page='NextSong', level='paid', phase=1),\n",
       " Row(userId='1138', firstname='Kelly', ts=1513766838284, page='NextSong', level='paid', phase=1),\n",
       " Row(userId='1138', firstname='Kelly', ts=1513767203284, page='NextSong', level='paid', phase=1),\n",
       " Row(userId='1138', firstname='Kelly', ts=1513767413284, page='NextSong', level='paid', phase=1),\n",
       " Row(userId='1138', firstname='Kelly', ts=1513767643284, page='NextSong', level='paid', phase=1),\n",
       " Row(userId='1138', firstname='Kelly', ts=1513768012284, page='NextSong', level='paid', phase=1),\n",
       " Row(userId='1138', firstname='Kelly', ts=1513768242284, page='NextSong', level='paid', phase=1),\n",
       " Row(userId='1138', firstname='Kelly', ts=1513768452284, page='NextSong', level='paid', phase=1),\n",
       " Row(userId='1138', firstname='Kelly', ts=1513768453284, page='Downgrade', level='paid', phase=1),\n",
       " Row(userId='1138', firstname='Kelly', ts=1513768454284, page='Submit Downgrade', level='paid', phase=1),\n",
       " Row(userId='1138', firstname='Kelly', ts=1513768456284, page='Home', level='free', phase=0),\n",
       " Row(userId='1138', firstname='Kelly', ts=1513814880284, page='NextSong', level='free', phase=0),\n",
       " Row(userId='1138', firstname='Kelly', ts=1513821430284, page='Home', level='free', phase=0),\n",
       " Row(userId='1138', firstname='Kelly', ts=1513833144284, page='NextSong', level='free', phase=0)]"
      ]
     },
     "execution_count": 45,
     "metadata": {},
     "output_type": "execute_result"
    }
   ],
   "source": [
    "user_log_valid.select([\"userId\", \"firstname\", \"ts\", \"page\", \"level\", \"phase\"]).where(user_log.userId == \"1138\").sort(\"ts\").collect()"
   ]
  },
  {
   "cell_type": "code",
   "execution_count": 50,
   "metadata": {},
   "outputs": [
    {
     "name": "stdout",
     "output_type": "stream",
     "text": [
      "+-----+\n",
      "| page|\n",
      "+-----+\n",
      "| Home|\n",
      "|About|\n",
      "|Login|\n",
      "| Help|\n",
      "+-----+\n",
      "\n"
     ]
    }
   ],
   "source": [
    "# Which page did user id \"\" (empty string) NOT visit?\n",
    "user_log.select([\"page\"]).where(user_log.userId == \"\").dropDuplicates().show()"
   ]
  },
  {
   "cell_type": "code",
   "execution_count": 51,
   "metadata": {},
   "outputs": [
    {
     "name": "stdout",
     "output_type": "stream",
     "text": [
      "root\n",
      " |-- artist: string (nullable = true)\n",
      " |-- auth: string (nullable = true)\n",
      " |-- firstName: string (nullable = true)\n",
      " |-- gender: string (nullable = true)\n",
      " |-- itemInSession: long (nullable = true)\n",
      " |-- lastName: string (nullable = true)\n",
      " |-- length: double (nullable = true)\n",
      " |-- level: string (nullable = true)\n",
      " |-- location: string (nullable = true)\n",
      " |-- method: string (nullable = true)\n",
      " |-- page: string (nullable = true)\n",
      " |-- registration: long (nullable = true)\n",
      " |-- sessionId: long (nullable = true)\n",
      " |-- song: string (nullable = true)\n",
      " |-- status: long (nullable = true)\n",
      " |-- ts: long (nullable = true)\n",
      " |-- userAgent: string (nullable = true)\n",
      " |-- userId: string (nullable = true)\n",
      " |-- hour: string (nullable = true)\n",
      "\n"
     ]
    }
   ],
   "source": [
    "user_log.printSchema()"
   ]
  },
  {
   "cell_type": "code",
   "execution_count": 55,
   "metadata": {},
   "outputs": [
    {
     "name": "stdout",
     "output_type": "stream",
     "text": [
      "+------+-----+\n",
      "|gender|count|\n",
      "+------+-----+\n",
      "|     F|  462|\n",
      "|  null|    1|\n",
      "|     M|  501|\n",
      "+------+-----+\n",
      "\n"
     ]
    }
   ],
   "source": [
    "# How many female users do we have in the data set?\n",
    "user_log.select(['gender', 'userId']).dropDuplicates().groupby(user_log.gender).count().show()"
   ]
  },
  {
   "cell_type": "code",
   "execution_count": 60,
   "metadata": {},
   "outputs": [
    {
     "name": "stdout",
     "output_type": "stream",
     "text": [
      "+--------------------+-----+\n",
      "|              artist|count|\n",
      "+--------------------+-----+\n",
      "|                null| 1653|\n",
      "|            Coldplay|   83|\n",
      "|       Kings Of Leon|   69|\n",
      "|Florence + The Ma...|   52|\n",
      "|            BjÃÂ¶rk|   46|\n",
      "|       Dwight Yoakam|   45|\n",
      "|       Justin Bieber|   43|\n",
      "|      The Black Keys|   40|\n",
      "|         OneRepublic|   37|\n",
      "|        Jack Johnson|   36|\n",
      "|                Muse|   36|\n",
      "|           Radiohead|   31|\n",
      "|        Taylor Swift|   29|\n",
      "|Barry Tuckwell/Ac...|   28|\n",
      "|          Lily Allen|   28|\n",
      "|               Train|   28|\n",
      "|           Metallica|   27|\n",
      "|           Daft Punk|   27|\n",
      "|          Nickelback|   27|\n",
      "|          Kanye West|   26|\n",
      "+--------------------+-----+\n",
      "only showing top 20 rows\n",
      "\n"
     ]
    }
   ],
   "source": [
    "# How many songs were played from the most played artist?\n",
    "user_log.select(['artist', 'song']).groupby(user_log.artist).count().sort(desc('count')).show()"
   ]
  },
  {
   "cell_type": "code",
   "execution_count": 82,
   "metadata": {},
   "outputs": [
    {
     "name": "stdout",
     "output_type": "stream",
     "text": [
      "+--------+-----------+\n",
      "|  Artist|Artistcount|\n",
      "+--------+-----------+\n",
      "|Coldplay|         83|\n",
      "+--------+-----------+\n",
      "only showing top 1 row\n",
      "\n"
     ]
    }
   ],
   "source": [
    "# How many songs were played from the most played artist?\n",
    "df = user_log\n",
    "df.filter(df.page == 'NextSong') \\\n",
    "    .select('Artist') \\\n",
    "    .groupBy('Artist') \\\n",
    "    .agg({'Artist':'count'}) \\\n",
    "    .withColumnRenamed('count(Artist)', 'Artistcount') \\\n",
    "    .sort(desc('Artistcount')) \\\n",
    "    .show(1)"
   ]
  },
  {
   "cell_type": "code",
   "execution_count": null,
   "metadata": {},
   "outputs": [],
   "source": [
    "user_log.filter(user_log.page == \"NextSong\").groupby(user_log.hour).count().orderBy(user_log.hour.cast(\"float\"))"
   ]
  },
  {
   "cell_type": "code",
   "execution_count": 67,
   "metadata": {},
   "outputs": [
    {
     "name": "stdout",
     "output_type": "stream",
     "text": [
      "+------+---------+--------------------+--------------------+-------------+----------------+-----+---------+\n",
      "|userId|firstname|              artist|                song|           ts|            page|level|is_n_home|\n",
      "+------+---------+--------------------+--------------------+-------------+----------------+-----+---------+\n",
      "|  1138|    Kelly|                null|                null|1513729066284|            Home| paid|        0|\n",
      "|  1138|    Kelly|           Black Box| Everybody Everybody|1513729066284|        NextSong| paid|        1|\n",
      "|  1138|    Kelly|         Future Rock|               Gears|1513729313284|        NextSong| paid|        1|\n",
      "|  1138|    Kelly|       Kings Of Leon|        Use Somebody|1513729552284|        NextSong| paid|        1|\n",
      "|  1138|    Kelly|               Queen|Love Of My Life (...|1513729783284|        NextSong| paid|        1|\n",
      "|  1138|    Kelly|       Jackie Greene|Down In The Valle...|1513730001284|        NextSong| paid|        1|\n",
      "|  1138|    Kelly|     The Temptations|Treat Her Like A ...|1513730263284|        NextSong| paid|        1|\n",
      "|  1138|    Kelly|         Amy Allison|Everybody Thinks ...|1513730518284|        NextSong| paid|        1|\n",
      "|  1138|    Kelly|Screamin' Jay Haw...|      Fourteen Wives|1513730768284|        NextSong| paid|        1|\n",
      "|  1138|    Kelly|      Sara Bareilles|   Love On The Rocks|1513731182284|        NextSong| paid|        1|\n",
      "|  1138|    Kelly|          The Script|           Breakeven|1513731435284|        NextSong| paid|        1|\n",
      "|  1138|    Kelly|   Animal Collective|          Leaf House|1513731695284|        NextSong| paid|        1|\n",
      "|  1138|    Kelly|          Sami Saari|       NAISEN KANSSA|1513731857284|        NextSong| paid|        1|\n",
      "|  1138|    Kelly|      Rhonda Vincent|  You're In My Heart|1513732160284|        NextSong| paid|        1|\n",
      "|  1138|    Kelly|Bachman-Turner Ov...|Roll On Down The ...|1513732302284|        NextSong| paid|        1|\n",
      "|  1138|    Kelly|         Andrew Bird|Plasticities (Remix)|1513732540284|        NextSong| paid|        1|\n",
      "|  1138|    Kelly|         OneRepublic|             Secrets|1513732770284|        NextSong| paid|        1|\n",
      "|  1138|    Kelly|      The Cat Empire|               Hello|1513732994284|        NextSong| paid|        1|\n",
      "|  1138|    Kelly|      Colbie Caillat|    I Never Told You|1513733223284|        NextSong| paid|        1|\n",
      "|  1138|    Kelly|           Starfield|       Love Break Me|1513733456284|        NextSong| paid|        1|\n",
      "|  1138|    Kelly|              Senser|One Touch One Bounce|1513733738284|        NextSong| paid|        1|\n",
      "|  1138|    Kelly|            BjÃÂ¶rk|                Undo|1513733941284|        NextSong| paid|        1|\n",
      "|  1138|    Kelly|        Bitter:Sweet|Overdue (Blackbea...|1513734289284|        NextSong| paid|        1|\n",
      "|  1138|    Kelly|         Bryan Ferry|Slave To Love (19...|1513734598284|        NextSong| paid|        1|\n",
      "|  1138|    Kelly|          Kanye West|            Stronger|1513734863284|        NextSong| paid|        1|\n",
      "|  1138|    Kelly|           Blindside|All Of Us (Album ...|1513735174284|        NextSong| paid|        1|\n",
      "|  1138|    Kelly|            Harmonia|       Sehr kosmisch|1513735385284|        NextSong| paid|        1|\n",
      "|  1138|    Kelly|                Enya|  March Of The Celts|1513736040284|        NextSong| paid|        1|\n",
      "|  1138|    Kelly|                Moby|         Electricity|1513736237284|        NextSong| paid|        1|\n",
      "|  1138|    Kelly|          Arch Enemy|           Aces High|1513736446284|        NextSong| paid|        1|\n",
      "|  1138|    Kelly|      Bebel Gilberto|           Bananeira|1513736709284|        NextSong| paid|        1|\n",
      "|  1138|    Kelly|            Dispatch|         The General|1513736915284|        NextSong| paid|        1|\n",
      "|  1138|    Kelly|HÃÂ©roes del Sil...|HÃÂ©roe De Leyen...|1513737160284|        NextSong| paid|        1|\n",
      "|  1138|    Kelly|             Rihanna|Don't Stop The Music|1513737460284|        NextSong| paid|        1|\n",
      "|  1138|    Kelly|      The Black Keys|      You're The One|1513737728284|        NextSong| paid|        1|\n",
      "|  1138|    Kelly|The New Pornograp...|Entering White Ce...|1513737936284|        NextSong| paid|        1|\n",
      "|  1138|    Kelly|      Carmen Consoli|      Piccolo Cesare|1513738144284|        NextSong| paid|        1|\n",
      "|  1138|    Kelly|                null|                null|1513738197284|            Help| paid|        1|\n",
      "|  1138|    Kelly|     Jimmy Eat World|Last Christmas (A...|1513738432284|        NextSong| paid|        1|\n",
      "|  1138|    Kelly|        Willie Dixon|        You Shook Me|1513763195284|        NextSong| paid|        1|\n",
      "|  1138|    Kelly|Death From Above ...|        Going Steady|1513763453284|        NextSong| paid|        1|\n",
      "|  1138|    Kelly|              Eminem|          My Name Is|1513763622284|        NextSong| paid|        1|\n",
      "|  1138|    Kelly|            BjÃÂ¶rk|                Undo|1513763890284|        NextSong| paid|        1|\n",
      "|  1138|    Kelly|         OneRepublic|             Secrets|1513764238284|        NextSong| paid|        1|\n",
      "|  1138|    Kelly|          Nickelback|Good Times Gone (...|1513764462284|        NextSong| paid|        1|\n",
      "|  1138|    Kelly|            Aventura|            Angelito|1513764782284|        NextSong| paid|        1|\n",
      "|  1138|    Kelly|              Prince|Batdance ( LP Ver...|1513765075284|        NextSong| paid|        1|\n",
      "|  1138|    Kelly|                null|                null|1513765075284|            Home| paid|        0|\n",
      "|  1138|    Kelly|        Szarka Gyula|          DiÃÂ¡kdal|1513765448284|        NextSong| paid|        1|\n",
      "|  1138|    Kelly|  The Joy Formidable|            Whirring|1513765655284|        NextSong| paid|        1|\n",
      "|  1138|    Kelly|             MF Doom|Potholderz (feat....|1513765818284|        NextSong| paid|        1|\n",
      "|  1138|    Kelly|           The Kooks|             Seaside|1513766091284|        NextSong| paid|        1|\n",
      "|  1138|    Kelly|                Tiga|  Louder Than A Bomb|1513766189284|        NextSong| paid|        1|\n",
      "|  1138|    Kelly|Brian Free & Assu...|       Just Like You|1513766385284|        NextSong| paid|        1|\n",
      "|  1138|    Kelly|       Dwight Yoakam|      You're The One|1513766599284|        NextSong| paid|        1|\n",
      "|  1138|    Kelly|Red Hot Chili Pep...|Turn It Again (Al...|1513766838284|        NextSong| paid|        1|\n",
      "|  1138|    Kelly|    Hollywood Undead|     Everywhere I Go|1513767203284|        NextSong| paid|        1|\n",
      "|  1138|    Kelly|        Gilberto Gil|       Easy Skankin'|1513767413284|        NextSong| paid|        1|\n",
      "|  1138|    Kelly|             OutKast|               Roses|1513767643284|        NextSong| paid|        1|\n",
      "|  1138|    Kelly|        Blowing Free|Killing Me Softly...|1513768012284|        NextSong| paid|        1|\n",
      "|  1138|    Kelly|     Head Automatica|The Razor (Album ...|1513768242284|        NextSong| paid|        1|\n",
      "|  1138|    Kelly|       Parkway Drive|   Idols and Anchors|1513768452284|        NextSong| paid|        1|\n",
      "|  1138|    Kelly|                null|                null|1513768453284|       Downgrade| paid|        1|\n",
      "|  1138|    Kelly|                null|                null|1513768454284|Submit Downgrade| paid|        1|\n",
      "|  1138|    Kelly|                null|                null|1513768456284|            Home| free|        0|\n",
      "|  1138|    Kelly|         The Killers|               Bones|1513814880284|        NextSong| free|        1|\n",
      "|  1138|    Kelly|                null|                null|1513821430284|            Home| free|        0|\n",
      "|  1138|    Kelly|FrÃÂ©meaux & Ass...|Grenouilles Manti...|1513833144284|        NextSong| free|        1|\n",
      "+------+---------+--------------------+--------------------+-------------+----------------+-----+---------+\n",
      "\n"
     ]
    }
   ],
   "source": [
    "flag_home_event = udf(lambda x: 0 if x == \"Home\" else 1, IntegerType())\n",
    "user_log_valid = user_log_valid.withColumn(\"is_n_home\", flag_home_event(\"page\")).orderBy(desc(\"ts\"))\n",
    "\n",
    "user_log_valid.select([\"userId\", \"firstname\", \"artist\", \"song\", \"ts\", \"page\", \"level\", \"is_n_home\"]).where(user_log.userId == \"1138\").sort(\"ts\").show(n=100)"
   ]
  },
  {
   "cell_type": "code",
   "execution_count": 79,
   "metadata": {},
   "outputs": [
    {
     "name": "stdout",
     "output_type": "stream",
     "text": [
      "+------+--------------+\n",
      "|userId|sum(is_n_home)|\n",
      "+------+--------------+\n",
      "|  2904|             1|\n",
      "|   691|             3|\n",
      "|  2294|            57|\n",
      "|  2162|            37|\n",
      "|  1436|             2|\n",
      "|  2088|            13|\n",
      "|  2275|             4|\n",
      "|  2756|             6|\n",
      "|   800|             2|\n",
      "|  1394|            27|\n",
      "|   926|             4|\n",
      "|  1746|             0|\n",
      "|  2696|             1|\n",
      "|  1280|             0|\n",
      "|   870|             2|\n",
      "|     7|             2|\n",
      "|  1903|             5|\n",
      "|   591|             1|\n",
      "|   613|             3|\n",
      "|   574|             5|\n",
      "+------+--------------+\n",
      "only showing top 20 rows\n",
      "\n"
     ]
    }
   ],
   "source": [
    "user_log_valid.groupBy(\"userId\").sum(\"is_n_home\").alias(\"temp\").show()"
   ]
  },
  {
   "cell_type": "code",
   "execution_count": 80,
   "metadata": {},
   "outputs": [
    {
     "name": "stdout",
     "output_type": "stream",
     "text": [
      "+-------------------+\n",
      "|avg(sum(is_n_home))|\n",
      "+-------------------+\n",
      "|  9.060228452751817|\n",
      "+-------------------+\n",
      "\n"
     ]
    }
   ],
   "source": [
    "user_log_valid.groupBy(\"userId\").sum(\"is_n_home\").agg(avg(\"sum(is_n_home)\")).show()"
   ]
  },
  {
   "cell_type": "code",
   "execution_count": 87,
   "metadata": {},
   "outputs": [],
   "source": [
    "# Question 5 (challenge)\n",
    "# How many songs do users listen to on average between visiting our home page? Please round your answer to the closest integer.\n",
    "df = user_log_valid\n",
    "function = udf(lambda ishome : int(ishome == 'Home'), IntegerType())\n",
    "\n",
    "user_window = Window \\\n",
    "    .partitionBy('userID') \\\n",
    "    .orderBy(desc('ts')) \\\n",
    "    .rangeBetween(Window.unboundedPreceding, 0)"
   ]
  },
  {
   "cell_type": "code",
   "execution_count": 90,
   "metadata": {},
   "outputs": [
    {
     "name": "stdout",
     "output_type": "stream",
     "text": [
      "+------+--------+-------------+---------+------+\n",
      "|userID|    page|           ts|homevisit|period|\n",
      "+------+--------+-------------+---------+------+\n",
      "|    10|NextSong|1513828388284|        0|     0|\n",
      "|    10|NextSong|1513790894284|        0|     0|\n",
      "|   100|    Home|1513839673284|        1|     1|\n",
      "|   100|NextSong|1513776308284|        0|     1|\n",
      "|   100|    Home|1513776194284|        1|     2|\n",
      "+------+--------+-------------+---------+------+\n",
      "only showing top 5 rows\n",
      "\n"
     ]
    }
   ],
   "source": [
    "cusum = df.filter((df.page == 'NextSong') | (df.page == 'Home')) \\\n",
    "    .select('userID', 'page', 'ts') \\\n",
    "    .withColumn('homevisit', function(col('page'))) \\\n",
    "    .withColumn('period', Fsum('homevisit').over(user_window))\n",
    "\n",
    "cusum.show(n=5)"
   ]
  },
  {
   "cell_type": "code",
   "execution_count": 91,
   "metadata": {},
   "outputs": [
    {
     "name": "stdout",
     "output_type": "stream",
     "text": [
      "+------------------+\n",
      "|avg(count(period))|\n",
      "+------------------+\n",
      "| 6.898347107438017|\n",
      "+------------------+\n",
      "\n"
     ]
    }
   ],
   "source": [
    "cusum.filter((cusum.page == 'NextSong')) \\\n",
    "    .groupBy('userID', 'period') \\\n",
    "    .agg({'period':'count'}) \\\n",
    "    .agg({'count(period)':'avg'}).show()"
   ]
  },
  {
   "cell_type": "code",
   "execution_count": null,
   "metadata": {},
   "outputs": [],
   "source": []
  }
 ],
 "metadata": {
  "kernelspec": {
   "display_name": "Python 3 (ipykernel)",
   "language": "python",
   "name": "python3"
  },
  "language_info": {
   "codemirror_mode": {
    "name": "ipython",
    "version": 3
   },
   "file_extension": ".py",
   "mimetype": "text/x-python",
   "name": "python",
   "nbconvert_exporter": "python",
   "pygments_lexer": "ipython3",
   "version": "3.8.5"
  },
  "orig_nbformat": 4
 },
 "nbformat": 4,
 "nbformat_minor": 2
}
